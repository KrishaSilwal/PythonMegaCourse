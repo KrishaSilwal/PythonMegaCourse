{
 "cells": [
  {
   "cell_type": "markdown",
   "id": "916f3d2e",
   "metadata": {},
   "source": [
    "# List"
   ]
  },
  {
   "cell_type": "code",
   "execution_count": 1,
   "id": "ed72f697",
   "metadata": {},
   "outputs": [],
   "source": [
    "lst= [1,2,3, 'Hi', 2.63333, 'Krisha', 'Hexcode']"
   ]
  },
  {
   "cell_type": "code",
   "execution_count": 2,
   "id": "1b10f4fc",
   "metadata": {},
   "outputs": [
    {
     "data": {
      "text/plain": [
       "list"
      ]
     },
     "execution_count": 2,
     "metadata": {},
     "output_type": "execute_result"
    }
   ],
   "source": [
    "type(lst)"
   ]
  },
  {
   "cell_type": "code",
   "execution_count": 3,
   "id": "f7eb50d8",
   "metadata": {},
   "outputs": [
    {
     "data": {
      "text/plain": [
       "3"
      ]
     },
     "execution_count": 3,
     "metadata": {},
     "output_type": "execute_result"
    }
   ],
   "source": [
    "lst[2]"
   ]
  },
  {
   "cell_type": "code",
   "execution_count": 7,
   "id": "a89a0885",
   "metadata": {},
   "outputs": [
    {
     "data": {
      "text/plain": [
       "int"
      ]
     },
     "execution_count": 7,
     "metadata": {},
     "output_type": "execute_result"
    }
   ],
   "source": [
    "type(lst[2])"
   ]
  },
  {
   "cell_type": "code",
   "execution_count": 5,
   "id": "4192185d",
   "metadata": {},
   "outputs": [
    {
     "data": {
      "text/plain": [
       "'Krisha Hexcode'"
      ]
     },
     "execution_count": 5,
     "metadata": {},
     "output_type": "execute_result"
    }
   ],
   "source": [
    "lst[5]+' '+lst[6]"
   ]
  },
  {
   "cell_type": "code",
   "execution_count": 8,
   "id": "da6ae9b3",
   "metadata": {},
   "outputs": [
    {
     "data": {
      "text/plain": [
       "7"
      ]
     },
     "execution_count": 8,
     "metadata": {},
     "output_type": "execute_result"
    }
   ],
   "source": [
    "len(lst)"
   ]
  },
  {
   "cell_type": "code",
   "execution_count": 9,
   "id": "24edd15a",
   "metadata": {},
   "outputs": [
    {
     "data": {
      "text/plain": [
       "[3, 'Hi', 2.63333, 'Krisha']"
      ]
     },
     "execution_count": 9,
     "metadata": {},
     "output_type": "execute_result"
    }
   ],
   "source": [
    "lst[2:6]"
   ]
  },
  {
   "cell_type": "code",
   "execution_count": 10,
   "id": "6d10aa5a",
   "metadata": {},
   "outputs": [],
   "source": [
    "lst1=[]"
   ]
  },
  {
   "cell_type": "code",
   "execution_count": 11,
   "id": "763c589e",
   "metadata": {},
   "outputs": [],
   "source": [
    "lst1.append('Kri')"
   ]
  },
  {
   "cell_type": "code",
   "execution_count": 12,
   "id": "62c4b5b3",
   "metadata": {},
   "outputs": [
    {
     "data": {
      "text/plain": [
       "['Kri']"
      ]
     },
     "execution_count": 12,
     "metadata": {},
     "output_type": "execute_result"
    }
   ],
   "source": [
    "lst1"
   ]
  },
  {
   "cell_type": "code",
   "execution_count": 13,
   "id": "d8ecb55b",
   "metadata": {},
   "outputs": [],
   "source": [
    "lst1.append('Balkot')"
   ]
  },
  {
   "cell_type": "code",
   "execution_count": 14,
   "id": "404db29d",
   "metadata": {},
   "outputs": [],
   "source": [
    "lst1.append('2002')"
   ]
  },
  {
   "cell_type": "code",
   "execution_count": 15,
   "id": "83524659",
   "metadata": {},
   "outputs": [],
   "source": [
    "lst1.append('Python')"
   ]
  },
  {
   "cell_type": "code",
   "execution_count": 16,
   "id": "648d85b1",
   "metadata": {},
   "outputs": [
    {
     "data": {
      "text/plain": [
       "['Kri', 'Balkot', '2002', 'Python']"
      ]
     },
     "execution_count": 16,
     "metadata": {},
     "output_type": "execute_result"
    }
   ],
   "source": [
    "lst1"
   ]
  },
  {
   "cell_type": "code",
   "execution_count": 17,
   "id": "e21ad6e7",
   "metadata": {},
   "outputs": [],
   "source": [
    "lst1.insert(1, 'Code')"
   ]
  },
  {
   "cell_type": "code",
   "execution_count": 18,
   "id": "16142d3e",
   "metadata": {},
   "outputs": [
    {
     "data": {
      "text/plain": [
       "['Kri', 'Code', 'Balkot', '2002', 'Python']"
      ]
     },
     "execution_count": 18,
     "metadata": {},
     "output_type": "execute_result"
    }
   ],
   "source": [
    "lst1"
   ]
  },
  {
   "cell_type": "code",
   "execution_count": 19,
   "id": "8a78f21a",
   "metadata": {},
   "outputs": [],
   "source": [
    "lst1[1]='Academy'"
   ]
  },
  {
   "cell_type": "code",
   "execution_count": 20,
   "id": "5b72c6ec",
   "metadata": {},
   "outputs": [
    {
     "data": {
      "text/plain": [
       "['Kri', 'Academy', 'Balkot', '2002', 'Python']"
      ]
     },
     "execution_count": 20,
     "metadata": {},
     "output_type": "execute_result"
    }
   ],
   "source": [
    "lst1"
   ]
  },
  {
   "cell_type": "code",
   "execution_count": 23,
   "id": "d267c551",
   "metadata": {},
   "outputs": [],
   "source": [
    "lst1[1:4]= ['Code', 'USA', '2023']"
   ]
  },
  {
   "cell_type": "code",
   "execution_count": 24,
   "id": "d8266ee7",
   "metadata": {},
   "outputs": [
    {
     "data": {
      "text/plain": [
       "['Kri', 'Code', 'USA', '2023', 'Python']"
      ]
     },
     "execution_count": 24,
     "metadata": {},
     "output_type": "execute_result"
    }
   ],
   "source": [
    "lst1"
   ]
  },
  {
   "cell_type": "code",
   "execution_count": 25,
   "id": "ca25d1a1",
   "metadata": {},
   "outputs": [],
   "source": [
    "lst1.remove('Python')"
   ]
  },
  {
   "cell_type": "code",
   "execution_count": 26,
   "id": "2e8094ab",
   "metadata": {},
   "outputs": [
    {
     "data": {
      "text/plain": [
       "['Kri', 'Code', 'USA', '2023']"
      ]
     },
     "execution_count": 26,
     "metadata": {},
     "output_type": "execute_result"
    }
   ],
   "source": [
    "lst1"
   ]
  },
  {
   "cell_type": "code",
   "execution_count": 35,
   "id": "5f2932ee",
   "metadata": {},
   "outputs": [],
   "source": [
    "lst1.clear()"
   ]
  },
  {
   "cell_type": "code",
   "execution_count": 36,
   "id": "0ef96f21",
   "metadata": {},
   "outputs": [
    {
     "data": {
      "text/plain": [
       "[]"
      ]
     },
     "execution_count": 36,
     "metadata": {},
     "output_type": "execute_result"
    }
   ],
   "source": [
    "lst1"
   ]
  },
  {
   "cell_type": "code",
   "execution_count": 37,
   "id": "c50e1942",
   "metadata": {},
   "outputs": [
    {
     "data": {
      "text/plain": [
       "[1, 2, 3, 'Hi', 2.63333, 'Krisha', 'Hexcode']"
      ]
     },
     "execution_count": 37,
     "metadata": {},
     "output_type": "execute_result"
    }
   ],
   "source": [
    "lst"
   ]
  },
  {
   "cell_type": "code",
   "execution_count": 38,
   "id": "3d64adc4",
   "metadata": {},
   "outputs": [
    {
     "data": {
      "text/plain": [
       "'Hexcode'"
      ]
     },
     "execution_count": 38,
     "metadata": {},
     "output_type": "execute_result"
    }
   ],
   "source": [
    "lst.pop()"
   ]
  },
  {
   "cell_type": "code",
   "execution_count": 39,
   "id": "591ed446",
   "metadata": {},
   "outputs": [
    {
     "data": {
      "text/plain": [
       "'Krisha'"
      ]
     },
     "execution_count": 39,
     "metadata": {},
     "output_type": "execute_result"
    }
   ],
   "source": [
    "lst.pop()"
   ]
  },
  {
   "cell_type": "code",
   "execution_count": 40,
   "id": "0c3df0b8",
   "metadata": {},
   "outputs": [
    {
     "data": {
      "text/plain": [
       "[1, 2, 3, 'Hi', 2.63333]"
      ]
     },
     "execution_count": 40,
     "metadata": {},
     "output_type": "execute_result"
    }
   ],
   "source": [
    "lst"
   ]
  },
  {
   "cell_type": "code",
   "execution_count": 41,
   "id": "81001f07",
   "metadata": {},
   "outputs": [
    {
     "data": {
      "text/plain": [
       "True"
      ]
     },
     "execution_count": 41,
     "metadata": {},
     "output_type": "execute_result"
    }
   ],
   "source": [
    "1 in lst"
   ]
  },
  {
   "cell_type": "code",
   "execution_count": 42,
   "id": "f91f3348",
   "metadata": {},
   "outputs": [
    {
     "data": {
      "text/plain": [
       "False"
      ]
     },
     "execution_count": 42,
     "metadata": {},
     "output_type": "execute_result"
    }
   ],
   "source": [
    "4 in lst"
   ]
  },
  {
   "cell_type": "code",
   "execution_count": 43,
   "id": "64d5982b",
   "metadata": {},
   "outputs": [
    {
     "data": {
      "text/plain": [
       "True"
      ]
     },
     "execution_count": 43,
     "metadata": {},
     "output_type": "execute_result"
    }
   ],
   "source": [
    "4 not in lst"
   ]
  },
  {
   "cell_type": "code",
   "execution_count": 44,
   "id": "410047f0",
   "metadata": {},
   "outputs": [
    {
     "data": {
      "text/plain": [
       "True"
      ]
     },
     "execution_count": 44,
     "metadata": {},
     "output_type": "execute_result"
    }
   ],
   "source": [
    "'Hi' in lst"
   ]
  },
  {
   "cell_type": "markdown",
   "id": "d31d19c7",
   "metadata": {},
   "source": [
    "# Dictionary"
   ]
  },
  {
   "cell_type": "code",
   "execution_count": 46,
   "id": "97cd3dfb",
   "metadata": {},
   "outputs": [],
   "source": [
    "info={'Name':'Krisha Silwal',\n",
    "     'RollNo':14,\n",
    "     'College':'Medhavi',\n",
    "     'Semester':3,\n",
    "     'Programme':'BCIS'}"
   ]
  },
  {
   "cell_type": "code",
   "execution_count": 47,
   "id": "c6260403",
   "metadata": {},
   "outputs": [
    {
     "data": {
      "text/plain": [
       "{'Name': 'Krisha Silwal',\n",
       " 'RollNo': 14,\n",
       " 'College': 'Medhavi',\n",
       " 'Semester': 3,\n",
       " 'Programme': 'BCIS'}"
      ]
     },
     "execution_count": 47,
     "metadata": {},
     "output_type": "execute_result"
    }
   ],
   "source": [
    "info"
   ]
  },
  {
   "cell_type": "code",
   "execution_count": 48,
   "id": "8217cb93",
   "metadata": {},
   "outputs": [
    {
     "data": {
      "text/plain": [
       "dict_keys(['Name', 'RollNo', 'College', 'Semester', 'Programme'])"
      ]
     },
     "execution_count": 48,
     "metadata": {},
     "output_type": "execute_result"
    }
   ],
   "source": [
    "info.keys()"
   ]
  },
  {
   "cell_type": "code",
   "execution_count": 49,
   "id": "45f003c1",
   "metadata": {},
   "outputs": [
    {
     "data": {
      "text/plain": [
       "'Medhavi'"
      ]
     },
     "execution_count": 49,
     "metadata": {},
     "output_type": "execute_result"
    }
   ],
   "source": [
    "info['College']"
   ]
  },
  {
   "cell_type": "code",
   "execution_count": 53,
   "id": "86bf4f06",
   "metadata": {},
   "outputs": [],
   "source": [
    "info['College']='Whitehouse'"
   ]
  },
  {
   "cell_type": "code",
   "execution_count": 54,
   "id": "bd10743b",
   "metadata": {},
   "outputs": [
    {
     "data": {
      "text/plain": [
       "{'Name': 'Krisha Silwal',\n",
       " 'RollNo': 14,\n",
       " 'College': 'Whitehouse',\n",
       " 'Semester': 3,\n",
       " 'Programme': 'BCIS'}"
      ]
     },
     "execution_count": 54,
     "metadata": {},
     "output_type": "execute_result"
    }
   ],
   "source": [
    "info"
   ]
  },
  {
   "cell_type": "code",
   "execution_count": 55,
   "id": "248b00b3",
   "metadata": {},
   "outputs": [
    {
     "data": {
      "text/plain": [
       "dict_values(['Krisha Silwal', 14, 'Whitehouse', 3, 'BCIS'])"
      ]
     },
     "execution_count": 55,
     "metadata": {},
     "output_type": "execute_result"
    }
   ],
   "source": [
    "info.values()"
   ]
  },
  {
   "cell_type": "code",
   "execution_count": 56,
   "id": "2ace665d",
   "metadata": {},
   "outputs": [],
   "source": [
    "info['Remarks']= 'Topper'"
   ]
  },
  {
   "cell_type": "code",
   "execution_count": 57,
   "id": "5015b414",
   "metadata": {},
   "outputs": [
    {
     "data": {
      "text/plain": [
       "{'Name': 'Krisha Silwal',\n",
       " 'RollNo': 14,\n",
       " 'College': 'Whitehouse',\n",
       " 'Semester': 3,\n",
       " 'Programme': 'BCIS',\n",
       " 'Remarks': 'Topper'}"
      ]
     },
     "execution_count": 57,
     "metadata": {},
     "output_type": "execute_result"
    }
   ],
   "source": [
    "info"
   ]
  },
  {
   "cell_type": "code",
   "execution_count": 58,
   "id": "24b9e81a",
   "metadata": {},
   "outputs": [
    {
     "data": {
      "text/plain": [
       "'Topper'"
      ]
     },
     "execution_count": 58,
     "metadata": {},
     "output_type": "execute_result"
    }
   ],
   "source": [
    "info.pop('Remarks')"
   ]
  },
  {
   "cell_type": "code",
   "execution_count": 59,
   "id": "53b99c36",
   "metadata": {},
   "outputs": [
    {
     "data": {
      "text/plain": [
       "{'Name': 'Krisha Silwal',\n",
       " 'RollNo': 14,\n",
       " 'College': 'Whitehouse',\n",
       " 'Semester': 3,\n",
       " 'Programme': 'BCIS'}"
      ]
     },
     "execution_count": 59,
     "metadata": {},
     "output_type": "execute_result"
    }
   ],
   "source": [
    "info"
   ]
  },
  {
   "cell_type": "code",
   "execution_count": 60,
   "id": "a526521e",
   "metadata": {},
   "outputs": [],
   "source": [
    "info.update({'SymbolNo':'2080016'})"
   ]
  },
  {
   "cell_type": "code",
   "execution_count": 61,
   "id": "31284113",
   "metadata": {},
   "outputs": [
    {
     "data": {
      "text/plain": [
       "{'Name': 'Krisha Silwal',\n",
       " 'RollNo': 14,\n",
       " 'College': 'Whitehouse',\n",
       " 'Semester': 3,\n",
       " 'Programme': 'BCIS',\n",
       " 'SymbolNo': '2080016'}"
      ]
     },
     "execution_count": 61,
     "metadata": {},
     "output_type": "execute_result"
    }
   ],
   "source": [
    "info"
   ]
  },
  {
   "cell_type": "code",
   "execution_count": 62,
   "id": "69916f38",
   "metadata": {},
   "outputs": [
    {
     "data": {
      "text/plain": [
       "'2080016'"
      ]
     },
     "execution_count": 62,
     "metadata": {},
     "output_type": "execute_result"
    }
   ],
   "source": [
    "info.get('SymbolNo')"
   ]
  },
  {
   "cell_type": "markdown",
   "id": "f082efcb",
   "metadata": {},
   "source": [
    "# Tuples"
   ]
  },
  {
   "cell_type": "code",
   "execution_count": 65,
   "id": "f78b66dd",
   "metadata": {},
   "outputs": [],
   "source": [
    "x=(1,1,2,3,'hi')"
   ]
  },
  {
   "cell_type": "code",
   "execution_count": 66,
   "id": "14e4f61f",
   "metadata": {},
   "outputs": [
    {
     "data": {
      "text/plain": [
       "2"
      ]
     },
     "execution_count": 66,
     "metadata": {},
     "output_type": "execute_result"
    }
   ],
   "source": [
    "x.count(1)"
   ]
  },
  {
   "cell_type": "code",
   "execution_count": 67,
   "id": "25b40aed",
   "metadata": {},
   "outputs": [
    {
     "data": {
      "text/plain": [
       "1"
      ]
     },
     "execution_count": 67,
     "metadata": {},
     "output_type": "execute_result"
    }
   ],
   "source": [
    "x[0]"
   ]
  },
  {
   "cell_type": "code",
   "execution_count": null,
   "id": "b98d087c",
   "metadata": {},
   "outputs": [],
   "source": []
  }
 ],
 "metadata": {
  "kernelspec": {
   "display_name": "Python 3 (ipykernel)",
   "language": "python",
   "name": "python3"
  },
  "language_info": {
   "codemirror_mode": {
    "name": "ipython",
    "version": 3
   },
   "file_extension": ".py",
   "mimetype": "text/x-python",
   "name": "python",
   "nbconvert_exporter": "python",
   "pygments_lexer": "ipython3",
   "version": "3.11.1"
  }
 },
 "nbformat": 4,
 "nbformat_minor": 5
}
