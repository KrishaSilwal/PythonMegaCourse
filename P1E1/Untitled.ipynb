{
 "cells": [
  {
   "cell_type": "code",
   "execution_count": 2,
   "id": "9f8b9597",
   "metadata": {},
   "outputs": [
    {
     "name": "stdout",
     "output_type": "stream",
     "text": [
      "Enter your name:Krisha Silwal\n"
     ]
    }
   ],
   "source": [
    "name= input('Enter your name:')"
   ]
  },
  {
   "cell_type": "code",
   "execution_count": 1,
   "id": "55c2c468",
   "metadata": {},
   "outputs": [
    {
     "name": "stdout",
     "output_type": "stream",
     "text": [
      "Enter your RollNo:16\n"
     ]
    }
   ],
   "source": [
    "name= input('Enter your RollNo:')"
   ]
  },
  {
   "cell_type": "code",
   "execution_count": 4,
   "id": "c2fdcc8e",
   "metadata": {
    "scrolled": true
   },
   "outputs": [
    {
     "name": "stdout",
     "output_type": "stream",
     "text": [
      "Enter first number:8\n"
     ]
    }
   ],
   "source": [
    "k= input ('Enter first number:')"
   ]
  },
  {
   "cell_type": "code",
   "execution_count": 5,
   "id": "2f963d7b",
   "metadata": {},
   "outputs": [
    {
     "name": "stdout",
     "output_type": "stream",
     "text": [
      "Enter second number:16\n"
     ]
    }
   ],
   "source": [
    "s= input ('Enter second number:')"
   ]
  },
  {
   "cell_type": "code",
   "execution_count": 6,
   "id": "885eb5bf",
   "metadata": {},
   "outputs": [
    {
     "name": "stdout",
     "output_type": "stream",
     "text": [
      "Sum is: 24\n"
     ]
    }
   ],
   "source": [
    "print(\"Sum is:\", int(k)+int(s))"
   ]
  },
  {
   "cell_type": "code",
   "execution_count": 1,
   "id": "4c24ca17",
   "metadata": {},
   "outputs": [
    {
     "name": "stdout",
     "output_type": "stream",
     "text": [
      "Enter any number:100\n"
     ]
    }
   ],
   "source": [
    "x= input('Enter any number:')"
   ]
  },
  {
   "cell_type": "code",
   "execution_count": 2,
   "id": "0274cc0a",
   "metadata": {},
   "outputs": [
    {
     "name": "stdout",
     "output_type": "stream",
     "text": [
      "Enter next number:21\n"
     ]
    }
   ],
   "source": [
    "y= input('Enter next number:')"
   ]
  },
  {
   "cell_type": "code",
   "execution_count": 3,
   "id": "68d8ae82",
   "metadata": {},
   "outputs": [
    {
     "name": "stdout",
     "output_type": "stream",
     "text": [
      "Integer part of division of the number is: 4\n"
     ]
    }
   ],
   "source": [
    "print ('Integer part of division of the number is:', int(x)//int(y))"
   ]
  }
 ],
 "metadata": {
  "kernelspec": {
   "display_name": "Python 3 (ipykernel)",
   "language": "python",
   "name": "python3"
  },
  "language_info": {
   "codemirror_mode": {
    "name": "ipython",
    "version": 3
   },
   "file_extension": ".py",
   "mimetype": "text/x-python",
   "name": "python",
   "nbconvert_exporter": "python",
   "pygments_lexer": "ipython3",
   "version": "3.11.1"
  }
 },
 "nbformat": 4,
 "nbformat_minor": 5
}
