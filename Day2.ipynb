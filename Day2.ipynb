{
 "cells": [
  {
   "cell_type": "code",
   "execution_count": 1,
   "id": "3edb0221",
   "metadata": {},
   "outputs": [],
   "source": [
    "x= \"HexCode\""
   ]
  },
  {
   "cell_type": "code",
   "execution_count": 2,
   "id": "9992a99f",
   "metadata": {},
   "outputs": [],
   "source": [
    "y= \"Nepal\""
   ]
  },
  {
   "cell_type": "code",
   "execution_count": 8,
   "id": "4e3053fc",
   "metadata": {},
   "outputs": [],
   "source": [
    "z= x+' '+y "
   ]
  },
  {
   "cell_type": "code",
   "execution_count": 10,
   "id": "2fba12e7",
   "metadata": {},
   "outputs": [
    {
     "name": "stdout",
     "output_type": "stream",
     "text": [
      "HexCode Nepal\n"
     ]
    }
   ],
   "source": [
    "print (z)"
   ]
  },
  {
   "cell_type": "code",
   "execution_count": 14,
   "id": "35b9a0ee",
   "metadata": {
    "scrolled": true
   },
   "outputs": [
    {
     "name": "stdout",
     "output_type": "stream",
     "text": [
      "Enter you firstname: Krisha \n",
      "Enter your lastname: Silwal\n"
     ]
    }
   ],
   "source": [
    "f_name= input ('Enter you firstname: ')\n",
    "l_name= input ('Enter your lastname: ')"
   ]
  },
  {
   "cell_type": "code",
   "execution_count": 16,
   "id": "03f29d3c",
   "metadata": {},
   "outputs": [
    {
     "name": "stdout",
     "output_type": "stream",
     "text": [
      "Your name isKrisha  Silwal\n"
     ]
    }
   ],
   "source": [
    "print ('Your name is' +f_name+' '+l_name)"
   ]
  },
  {
   "cell_type": "code",
   "execution_count": 17,
   "id": "45e7a765",
   "metadata": {},
   "outputs": [
    {
     "name": "stdout",
     "output_type": "stream",
     "text": [
      "Enter first number45\n",
      "Enter second number33\n"
     ]
    }
   ],
   "source": [
    "num1 = int(input('Enter first number'))\n",
    "num2 = int(input('Enter second number'))"
   ]
  },
  {
   "cell_type": "code",
   "execution_count": 18,
   "id": "7f90f4bd",
   "metadata": {},
   "outputs": [],
   "source": [
    "sum1= num1 +num2"
   ]
  },
  {
   "cell_type": "code",
   "execution_count": 19,
   "id": "66c706ea",
   "metadata": {},
   "outputs": [
    {
     "data": {
      "text/plain": [
       "78"
      ]
     },
     "execution_count": 19,
     "metadata": {},
     "output_type": "execute_result"
    }
   ],
   "source": [
    "sum1"
   ]
  },
  {
   "cell_type": "code",
   "execution_count": 4,
   "id": "fd270b47",
   "metadata": {},
   "outputs": [
    {
     "name": "stdout",
     "output_type": "stream",
     "text": [
      "Enter first number: 200\n",
      "Entersecond number: 123.56\n"
     ]
    }
   ],
   "source": [
    "num1 = float(input('Enter first number: '))\n",
    "num2 = float(input('Entersecond number: '))"
   ]
  },
  {
   "cell_type": "code",
   "execution_count": 5,
   "id": "132d61b2",
   "metadata": {},
   "outputs": [],
   "source": [
    "diff1= num1-num2"
   ]
  },
  {
   "cell_type": "code",
   "execution_count": 6,
   "id": "6a29edbf",
   "metadata": {},
   "outputs": [
    {
     "name": "stdout",
     "output_type": "stream",
     "text": [
      "76.44\n"
     ]
    }
   ],
   "source": [
    "print(diff1)"
   ]
  },
  {
   "cell_type": "code",
   "execution_count": 1,
   "id": "055b488a",
   "metadata": {},
   "outputs": [
    {
     "name": "stdout",
     "output_type": "stream",
     "text": [
      "Enter any number: 50\n",
      "Enter another number: 10\n"
     ]
    }
   ],
   "source": [
    "x= float(input('Enter any number: '))\n",
    "y= float(input('Enter another number: '))"
   ]
  },
  {
   "cell_type": "code",
   "execution_count": 8,
   "id": "c9c8122d",
   "metadata": {},
   "outputs": [],
   "source": [
    "z= x*y"
   ]
  },
  {
   "cell_type": "code",
   "execution_count": 9,
   "id": "394abe30",
   "metadata": {},
   "outputs": [
    {
     "name": "stdout",
     "output_type": "stream",
     "text": [
      "The product is 500.0\n"
     ]
    }
   ],
   "source": [
    "print('The product is', z)"
   ]
  },
  {
   "cell_type": "code",
   "execution_count": 7,
   "id": "e35b4e91",
   "metadata": {},
   "outputs": [
    {
     "data": {
      "text/plain": [
       "9.765625e+16"
      ]
     },
     "execution_count": 7,
     "metadata": {},
     "output_type": "execute_result"
    }
   ],
   "source": [
    "x**y "
   ]
  },
  {
   "cell_type": "code",
   "execution_count": null,
   "id": "1380f246",
   "metadata": {},
   "outputs": [],
   "source": []
  }
 ],
 "metadata": {
  "kernelspec": {
   "display_name": "Python 3 (ipykernel)",
   "language": "python",
   "name": "python3"
  },
  "language_info": {
   "codemirror_mode": {
    "name": "ipython",
    "version": 3
   },
   "file_extension": ".py",
   "mimetype": "text/x-python",
   "name": "python",
   "nbconvert_exporter": "python",
   "pygments_lexer": "ipython3",
   "version": "3.11.1"
  }
 },
 "nbformat": 4,
 "nbformat_minor": 5
}
