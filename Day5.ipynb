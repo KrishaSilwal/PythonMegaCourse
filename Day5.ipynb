{
 "cells": [
  {
   "cell_type": "markdown",
   "id": "8308c17d",
   "metadata": {},
   "source": [
    "# Tuples"
   ]
  },
  {
   "cell_type": "code",
   "execution_count": 4,
   "id": "022fd644",
   "metadata": {},
   "outputs": [],
   "source": [
    "x= ('hi', 'hi', 'hello', 'nasmate', 5, 7, 8, 9 ,9) #allows duplicate items"
   ]
  },
  {
   "cell_type": "code",
   "execution_count": 6,
   "id": "f9587247",
   "metadata": {},
   "outputs": [
    {
     "data": {
      "text/plain": [
       "2"
      ]
     },
     "execution_count": 6,
     "metadata": {},
     "output_type": "execute_result"
    }
   ],
   "source": [
    "x.count('hi')"
   ]
  },
  {
   "cell_type": "code",
   "execution_count": 30,
   "id": "820e3cbe",
   "metadata": {},
   "outputs": [],
   "source": [
    "x= ('apples','banana','grapes','grapes','mango')"
   ]
  },
  {
   "cell_type": "code",
   "execution_count": 31,
   "id": "1434084f",
   "metadata": {},
   "outputs": [
    {
     "data": {
      "text/plain": [
       "2"
      ]
     },
     "execution_count": 31,
     "metadata": {},
     "output_type": "execute_result"
    }
   ],
   "source": [
    "x.count('grapes')"
   ]
  },
  {
   "cell_type": "code",
   "execution_count": 32,
   "id": "23c99fe9",
   "metadata": {},
   "outputs": [
    {
     "data": {
      "text/plain": [
       "5"
      ]
     },
     "execution_count": 32,
     "metadata": {},
     "output_type": "execute_result"
    }
   ],
   "source": [
    "len(x)"
   ]
  },
  {
   "cell_type": "code",
   "execution_count": 33,
   "id": "f541da17",
   "metadata": {},
   "outputs": [
    {
     "data": {
      "text/plain": [
       "'grapes'"
      ]
     },
     "execution_count": 33,
     "metadata": {},
     "output_type": "execute_result"
    }
   ],
   "source": [
    "x[2]"
   ]
  },
  {
   "cell_type": "code",
   "execution_count": 35,
   "id": "4078c257",
   "metadata": {},
   "outputs": [
    {
     "data": {
      "text/plain": [
       "('grapes', 'grapes', 'mango')"
      ]
     },
     "execution_count": 35,
     "metadata": {},
     "output_type": "execute_result"
    }
   ],
   "source": [
    "x[2:5]"
   ]
  },
  {
   "cell_type": "code",
   "execution_count": 36,
   "id": "e78521a9",
   "metadata": {},
   "outputs": [],
   "source": [
    "y=list(x) #list ma value change garna milcha, tuples ma mildaina"
   ]
  },
  {
   "cell_type": "code",
   "execution_count": 37,
   "id": "f84fa1d9",
   "metadata": {},
   "outputs": [
    {
     "data": {
      "text/plain": [
       "['apples', 'banana', 'grapes', 'grapes', 'mango']"
      ]
     },
     "execution_count": 37,
     "metadata": {},
     "output_type": "execute_result"
    }
   ],
   "source": [
    "y"
   ]
  },
  {
   "cell_type": "code",
   "execution_count": 38,
   "id": "4ac07d19",
   "metadata": {},
   "outputs": [],
   "source": [
    "y[2]='banana'"
   ]
  },
  {
   "cell_type": "code",
   "execution_count": 39,
   "id": "8da3021e",
   "metadata": {},
   "outputs": [
    {
     "data": {
      "text/plain": [
       "['apples', 'banana', 'banana', 'grapes', 'mango']"
      ]
     },
     "execution_count": 39,
     "metadata": {},
     "output_type": "execute_result"
    }
   ],
   "source": [
    "y"
   ]
  },
  {
   "cell_type": "code",
   "execution_count": 40,
   "id": "54781670",
   "metadata": {},
   "outputs": [],
   "source": [
    "x=tuple(y)"
   ]
  },
  {
   "cell_type": "code",
   "execution_count": 41,
   "id": "02be32ed",
   "metadata": {},
   "outputs": [
    {
     "data": {
      "text/plain": [
       "('apples', 'banana', 'banana', 'grapes', 'mango')"
      ]
     },
     "execution_count": 41,
     "metadata": {},
     "output_type": "execute_result"
    }
   ],
   "source": [
    "x"
   ]
  },
  {
   "cell_type": "code",
   "execution_count": 42,
   "id": "0392660d",
   "metadata": {},
   "outputs": [
    {
     "data": {
      "text/plain": [
       "tuple"
      ]
     },
     "execution_count": 42,
     "metadata": {},
     "output_type": "execute_result"
    }
   ],
   "source": [
    "type(x)"
   ]
  },
  {
   "cell_type": "code",
   "execution_count": 47,
   "id": "78f1ad74",
   "metadata": {},
   "outputs": [],
   "source": [
    "z=('Krisha',) #put comma , at last in case of single element -> tuple"
   ]
  },
  {
   "cell_type": "code",
   "execution_count": 48,
   "id": "7227507b",
   "metadata": {},
   "outputs": [
    {
     "data": {
      "text/plain": [
       "tuple"
      ]
     },
     "execution_count": 48,
     "metadata": {},
     "output_type": "execute_result"
    }
   ],
   "source": [
    "type(z)"
   ]
  },
  {
   "cell_type": "markdown",
   "id": "24503048",
   "metadata": {},
   "source": [
    "# Set"
   ]
  },
  {
   "cell_type": "code",
   "execution_count": 49,
   "id": "7367c39d",
   "metadata": {},
   "outputs": [],
   "source": [
    "s1={1,2,3,4,5,6}"
   ]
  },
  {
   "cell_type": "code",
   "execution_count": 50,
   "id": "c59c3984",
   "metadata": {},
   "outputs": [
    {
     "data": {
      "text/plain": [
       "set"
      ]
     },
     "execution_count": 50,
     "metadata": {},
     "output_type": "execute_result"
    }
   ],
   "source": [
    "type(s1)"
   ]
  },
  {
   "cell_type": "code",
   "execution_count": 78,
   "id": "a92fc420",
   "metadata": {},
   "outputs": [],
   "source": [
    "s2={1,1,1,2,3,4,5,6,6,6,6,7,7,} #doesn't allow duplicate elements"
   ]
  },
  {
   "cell_type": "code",
   "execution_count": 79,
   "id": "950bd877",
   "metadata": {},
   "outputs": [
    {
     "data": {
      "text/plain": [
       "{1, 2, 3, 4, 5, 6, 7}"
      ]
     },
     "execution_count": 79,
     "metadata": {},
     "output_type": "execute_result"
    }
   ],
   "source": [
    "s2"
   ]
  },
  {
   "cell_type": "code",
   "execution_count": 80,
   "id": "61da0c33",
   "metadata": {},
   "outputs": [],
   "source": [
    "s2.add('hi')"
   ]
  },
  {
   "cell_type": "code",
   "execution_count": 81,
   "id": "45f6c5e4",
   "metadata": {},
   "outputs": [
    {
     "data": {
      "text/plain": [
       "{1, 2, 3, 4, 5, 6, 7, 'hi'}"
      ]
     },
     "execution_count": 81,
     "metadata": {},
     "output_type": "execute_result"
    }
   ],
   "source": [
    "s2"
   ]
  },
  {
   "cell_type": "code",
   "execution_count": 82,
   "id": "68567b0c",
   "metadata": {},
   "outputs": [],
   "source": [
    "s2.remove(6)"
   ]
  },
  {
   "cell_type": "code",
   "execution_count": 83,
   "id": "dfcbe154",
   "metadata": {},
   "outputs": [
    {
     "data": {
      "text/plain": [
       "{1, 2, 3, 4, 5, 7, 'hi'}"
      ]
     },
     "execution_count": 83,
     "metadata": {},
     "output_type": "execute_result"
    }
   ],
   "source": [
    "s2"
   ]
  },
  {
   "cell_type": "code",
   "execution_count": 84,
   "id": "c29f016e",
   "metadata": {},
   "outputs": [
    {
     "data": {
      "text/plain": [
       "7"
      ]
     },
     "execution_count": 84,
     "metadata": {},
     "output_type": "execute_result"
    }
   ],
   "source": [
    "len(s2)"
   ]
  },
  {
   "cell_type": "code",
   "execution_count": 73,
   "id": "a21383b8",
   "metadata": {},
   "outputs": [
    {
     "name": "stdout",
     "output_type": "stream",
     "text": [
      "1\n",
      "2\n",
      "3\n",
      "4\n",
      "5\n",
      "7\n",
      "hi\n"
     ]
    }
   ],
   "source": [
    "for i in s2:\n",
    "    print (i)"
   ]
  },
  {
   "cell_type": "code",
   "execution_count": 98,
   "id": "8c3b7e75",
   "metadata": {},
   "outputs": [],
   "source": [
    "a=list(s2)"
   ]
  },
  {
   "cell_type": "code",
   "execution_count": 99,
   "id": "07c63821",
   "metadata": {},
   "outputs": [
    {
     "data": {
      "text/plain": [
       "[1, 3, 4, 5, 7, 'hello world']"
      ]
     },
     "execution_count": 99,
     "metadata": {},
     "output_type": "execute_result"
    }
   ],
   "source": [
    "a"
   ]
  },
  {
   "cell_type": "code",
   "execution_count": 104,
   "id": "79eab772",
   "metadata": {},
   "outputs": [],
   "source": [
    "a[5]='hi'"
   ]
  },
  {
   "cell_type": "code",
   "execution_count": 105,
   "id": "fdf56d98",
   "metadata": {},
   "outputs": [
    {
     "data": {
      "text/plain": [
       "[1, 3, 4, 5, 7, 'hi']"
      ]
     },
     "execution_count": 105,
     "metadata": {},
     "output_type": "execute_result"
    }
   ],
   "source": [
    "a"
   ]
  },
  {
   "cell_type": "code",
   "execution_count": 102,
   "id": "05b699ff",
   "metadata": {},
   "outputs": [],
   "source": [
    "s2=set(a)"
   ]
  },
  {
   "cell_type": "code",
   "execution_count": 103,
   "id": "d283af7a",
   "metadata": {},
   "outputs": [
    {
     "data": {
      "text/plain": [
       "{1, 3, 4, 5, 7, 'hello world'}"
      ]
     },
     "execution_count": 103,
     "metadata": {},
     "output_type": "execute_result"
    }
   ],
   "source": [
    "s2"
   ]
  },
  {
   "cell_type": "markdown",
   "id": "27e413fc",
   "metadata": {},
   "source": [
    "# If Else Statement"
   ]
  },
  {
   "cell_type": "code",
   "execution_count": 113,
   "id": "4361a5c0",
   "metadata": {},
   "outputs": [
    {
     "name": "stdout",
     "output_type": "stream",
     "text": [
      "Enter the positive integer38.5\n"
     ]
    }
   ],
   "source": [
    "n=float(input(\"Enter the positive integer\"))"
   ]
  },
  {
   "cell_type": "code",
   "execution_count": 116,
   "id": "bedd9a17",
   "metadata": {},
   "outputs": [
    {
     "name": "stdout",
     "output_type": "stream",
     "text": [
      "Integer\n"
     ]
    }
   ],
   "source": [
    "if n%2==0:\n",
    "    print(\"Even Number\")\n",
    "elif n%2==1:\n",
    "    print (\"Odd Number\")\n",
    "else:\n",
    "    print(\"Integer\")"
   ]
  },
  {
   "cell_type": "markdown",
   "id": "5640ac40",
   "metadata": {},
   "source": [
    "Exercise\n",
    "   1) take marks as input from user \n",
    "   2) Classify the division using following reference\n",
    "      i) Marks greater than equal to 80 Distinction\n",
    "      ii) Greater equal to 60 and less than 80- First Division\n",
    "      iii) Greater equal to 40 and less than 60- Division\n",
    "      iv) Less than 40- kaam chaina\n",
    "      v)Else invalid marks"
   ]
  },
  {
   "cell_type": "code",
   "execution_count": 2,
   "id": "c69ee629",
   "metadata": {},
   "outputs": [
    {
     "name": "stdout",
     "output_type": "stream",
     "text": [
      "Enter the marks: 67\n",
      "First Division\n"
     ]
    }
   ],
   "source": [
    "marks = float(input(\"Enter the marks: \"))\n",
    "if (marks>=80 and marks<=100):\n",
    "    print(\"Distinction\")\n",
    "elif (marks>=60 and marks<80):\n",
    "    print(\"First Division\")\n",
    "elif (marks>=40 and marks<60):\n",
    "    print(\"Second Divison\")\n",
    "elif (marks<40):\n",
    "    print(\"Kaam Chaina\")\n",
    "else:\n",
    "    print(\"Invalid Marks\")"
   ]
  },
  {
   "cell_type": "code",
   "execution_count": null,
   "id": "fccf8c7c",
   "metadata": {},
   "outputs": [],
   "source": []
  }
 ],
 "metadata": {
  "kernelspec": {
   "display_name": "Python 3 (ipykernel)",
   "language": "python",
   "name": "python3"
  },
  "language_info": {
   "codemirror_mode": {
    "name": "ipython",
    "version": 3
   },
   "file_extension": ".py",
   "mimetype": "text/x-python",
   "name": "python",
   "nbconvert_exporter": "python",
   "pygments_lexer": "ipython3",
   "version": "3.11.1"
  }
 },
 "nbformat": 4,
 "nbformat_minor": 5
}
