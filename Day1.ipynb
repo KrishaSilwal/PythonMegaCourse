{
 "cells": [
  {
   "cell_type": "code",
   "execution_count": 5,
   "id": "866689e8",
   "metadata": {
    "scrolled": true
   },
   "outputs": [
    {
     "name": "stdout",
     "output_type": "stream",
     "text": [
      "Hello Hex!\n"
     ]
    }
   ],
   "source": [
    "print(\"Hello Hex!\")"
   ]
  },
  {
   "cell_type": "code",
   "execution_count": 6,
   "id": "cf9a5d69",
   "metadata": {},
   "outputs": [
    {
     "name": "stdout",
     "output_type": "stream",
     "text": [
      "12\n"
     ]
    }
   ],
   "source": [
    "x=5\n",
    "y=7\n",
    "print(x+y)"
   ]
  },
  {
   "cell_type": "code",
   "execution_count": 7,
   "id": "88b03be8",
   "metadata": {},
   "outputs": [
    {
     "name": "stdout",
     "output_type": "stream",
     "text": [
      "5\n"
     ]
    }
   ],
   "source": [
    "print (x)"
   ]
  },
  {
   "cell_type": "code",
   "execution_count": 8,
   "id": "3fd57f59",
   "metadata": {},
   "outputs": [
    {
     "data": {
      "text/plain": [
       "int"
      ]
     },
     "execution_count": 8,
     "metadata": {},
     "output_type": "execute_result"
    }
   ],
   "source": [
    "type(x)"
   ]
  },
  {
   "cell_type": "code",
   "execution_count": 9,
   "id": "08e30ebe",
   "metadata": {},
   "outputs": [],
   "source": [
    "y=\"I am a student\""
   ]
  },
  {
   "cell_type": "code",
   "execution_count": 10,
   "id": "6d0ea3ce",
   "metadata": {},
   "outputs": [
    {
     "data": {
      "text/plain": [
       "str"
      ]
     },
     "execution_count": 10,
     "metadata": {},
     "output_type": "execute_result"
    }
   ],
   "source": [
    "type(y)"
   ]
  },
  {
   "cell_type": "code",
   "execution_count": 11,
   "id": "0b79e1c8",
   "metadata": {},
   "outputs": [],
   "source": [
    "b=\"my name is krisha silwal\""
   ]
  },
  {
   "cell_type": "code",
   "execution_count": 12,
   "id": "f35d8683",
   "metadata": {},
   "outputs": [
    {
     "name": "stdout",
     "output_type": "stream",
     "text": [
      "my name is krisha silwalI am a student\n"
     ]
    }
   ],
   "source": [
    "print(b+y)"
   ]
  },
  {
   "cell_type": "code",
   "execution_count": 13,
   "id": "028f7e43",
   "metadata": {},
   "outputs": [
    {
     "name": "stdout",
     "output_type": "stream",
     "text": [
      "5\n"
     ]
    }
   ],
   "source": [
    "z = input ()"
   ]
  },
  {
   "cell_type": "code",
   "execution_count": 14,
   "id": "b1c28b92",
   "metadata": {},
   "outputs": [
    {
     "data": {
      "text/plain": [
       "str"
      ]
     },
     "execution_count": 14,
     "metadata": {},
     "output_type": "execute_result"
    }
   ],
   "source": [
    "type(z)"
   ]
  },
  {
   "cell_type": "code",
   "execution_count": 2,
   "id": "c63a3873",
   "metadata": {},
   "outputs": [
    {
     "name": "stdout",
     "output_type": "stream",
     "text": [
      "Enter your FirstName:Krisha\n"
     ]
    }
   ],
   "source": [
    "name= input ('Enter your FirstName:')"
   ]
  },
  {
   "cell_type": "code",
   "execution_count": 3,
   "id": "e842e1f3",
   "metadata": {},
   "outputs": [
    {
     "name": "stdout",
     "output_type": "stream",
     "text": [
      "Enter your LastName:Silwal\n"
     ]
    }
   ],
   "source": [
    "name2= input ('Enter your LastName:')"
   ]
  },
  {
   "cell_type": "code",
   "execution_count": 4,
   "id": "49c623c5",
   "metadata": {},
   "outputs": [
    {
     "name": "stdout",
     "output_type": "stream",
     "text": [
      "KrishaSilwal\n"
     ]
    }
   ],
   "source": [
    "print (name+name2)"
   ]
  },
  {
   "cell_type": "code",
   "execution_count": null,
   "id": "3b043b6b",
   "metadata": {},
   "outputs": [],
   "source": []
  }
 ],
 "metadata": {
  "kernelspec": {
   "display_name": "Python 3 (ipykernel)",
   "language": "python",
   "name": "python3"
  },
  "language_info": {
   "codemirror_mode": {
    "name": "ipython",
    "version": 3
   },
   "file_extension": ".py",
   "mimetype": "text/x-python",
   "name": "python",
   "nbconvert_exporter": "python",
   "pygments_lexer": "ipython3",
   "version": "3.11.1"
  }
 },
 "nbformat": 4,
 "nbformat_minor": 5
}
